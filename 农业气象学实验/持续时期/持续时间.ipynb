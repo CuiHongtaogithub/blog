{
 "cells": [
  {
   "cell_type": "code",
   "execution_count": 62,
   "id": "76040915",
   "metadata": {},
   "outputs": [],
   "source": [
    "##导入画图库\n",
    "import numpy as np\n",
    "from matplotlib import pyplot as plt\n",
    "from matplotlib import animation"
   ]
  },
  {
   "cell_type": "code",
   "execution_count": 63,
   "id": "4d0e9fbe",
   "metadata": {},
   "outputs": [],
   "source": [
    "#导入读取数据的库\n",
    "import xlrd\n",
    "import pandas as pd"
   ]
  },
  {
   "cell_type": "code",
   "execution_count": 64,
   "id": "a5147108",
   "metadata": {},
   "outputs": [],
   "source": [
    "#读取csv数据\n",
    "path = 'continue.csv'\n",
    "start_data=pd.read_csv(path,keep_default_na=False)\n",
    "start_data_txt=pd.read_csv(path,header=None)\n",
    "data=start_data_txt.loc[1:]\n",
    "# #print(start_data)\n",
    "# print(start_data_txt)\n",
    "# print(a)"
   ]
  },
  {
   "cell_type": "code",
   "execution_count": 65,
   "id": "7415a0c4",
   "metadata": {},
   "outputs": [],
   "source": [
    "#读取变量\n",
    "biaotou=list(start_data.columns.values)\n",
    "columns1=['year', 'month0', 'day0', 'doy0', 'yue30', 'yue40', 'daymarch0', \n",
    "          'month5', 'day5', 'doy5', 'yue35', 'yue45', 'daymarch5',\n",
    "          'month10', 'day10', 'doy10', 'yue310', 'yue410', 'daymarch10', \n",
    "          'month20', 'day20', 'doy20', 'yue320', 'yue420', 'daymarch20']\n",
    "# print(year)\n",
    "# print(biaotou)\n",
    "# print(index)"
   ]
  },
  {
   "cell_type": "code",
   "execution_count": 66,
   "id": "2cc64c00",
   "metadata": {},
   "outputs": [
    {
     "name": "stdout",
     "output_type": "stream",
     "text": [
      "   year\n",
      "0  1951\n",
      "1  1952\n",
      "2  1953\n",
      "3  1954\n",
      "4  1955\n",
      "5  1956\n",
      "6  1957\n",
      "7  1958\n",
      "8  1959\n",
      "9  1960\n"
     ]
    }
   ],
   "source": [
    "#设置0℃变量\n",
    "year = start_data[['year']]\n",
    "print(year)\n",
    "month0 = start_data[['month0']]\n",
    "day0 = start_data[['day0']]\n",
    "doy0 = start_data[['doy0']]\n",
    "yue30 = start_data[['yue30']]\n",
    "yue40 = start_data[['yue40']]\n",
    "daymarch0 = start_data[['daymarch0']]"
   ]
  },
  {
   "cell_type": "code",
   "execution_count": 67,
   "id": "cb922ed6",
   "metadata": {},
   "outputs": [
    {
     "name": "stdout",
     "output_type": "stream",
     "text": [
      "0    228\n",
      "1    228\n",
      "2    199\n",
      "3    223\n",
      "4    207\n",
      "5    216\n",
      "6    209\n",
      "7    272\n",
      "8    235\n",
      "9    214\n",
      "Name: daymarch0, dtype: int64\n"
     ]
    }
   ],
   "source": [
    "year_array = pd.to_numeric(start_data[\"year\"]) \n",
    "year_list = year_array.tolist()\n",
    "daymarch0_array = pd.to_numeric(start_data[\"daymarch0\"]) \n",
    "print(daymarch0_array)\n",
    "daymarch0_list = daymarch0_array.tolist()\n",
    "month0_array = pd.to_numeric(start_data[\"month0\"]) \n",
    "month0_list = month0_array.tolist()\n",
    "day0_array = pd.to_numeric(start_data[\"day0\"]) \n",
    "day0_list = day0_array.tolist()"
   ]
  },
  {
   "cell_type": "code",
   "execution_count": 68,
   "id": "d5dd459f",
   "metadata": {},
   "outputs": [],
   "source": [
    "#设置5℃变量\n",
    "month5 = start_data[['month5']]\n",
    "day5 = start_data[['day5']]\n",
    "doy5 = start_data[['doy5']]\n",
    "yue35 = start_data[['yue35']]\n",
    "yue45 = start_data[['yue45']]\n",
    "daymarch5 = start_data[['daymarch5']]"
   ]
  },
  {
   "cell_type": "code",
   "execution_count": 69,
   "id": "6bbad8bc",
   "metadata": {},
   "outputs": [],
   "source": [
    "daymarch5_array = pd.to_numeric(start_data[\"daymarch5\"]) \n",
    "daymarch5_list = daymarch5_array.tolist()\n",
    "month5_array = pd.to_numeric(start_data[\"month5\"]) \n",
    "month5_list = month5_array.tolist()\n",
    "day5_array = pd.to_numeric(start_data[\"day5\"]) \n",
    "day5_list = day5_array.tolist()"
   ]
  },
  {
   "cell_type": "code",
   "execution_count": 70,
   "id": "5eff3905",
   "metadata": {},
   "outputs": [],
   "source": [
    "#设置10℃变量\n",
    "month10 = start_data[['month10']]\n",
    "day10 = start_data[['day10']]\n",
    "doy10 = start_data[['doy10']]\n",
    "yue310 = start_data[['yue310']]\n",
    "yue410 = start_data[['yue410']]\n",
    "daymarch10 = start_data[['daymarch10']]"
   ]
  },
  {
   "cell_type": "code",
   "execution_count": 71,
   "id": "b58e0b9f",
   "metadata": {},
   "outputs": [],
   "source": [
    "daymarch10_array = pd.to_numeric(start_data[\"daymarch10\"]) \n",
    "daymarch10_list = daymarch10_array.tolist()\n",
    "month10_array = pd.to_numeric(start_data[\"month10\"]) \n",
    "month10_list = month10_array.tolist()\n",
    "day10_array = pd.to_numeric(start_data[\"day10\"]) \n",
    "day10_list = day10_array.tolist()"
   ]
  },
  {
   "cell_type": "code",
   "execution_count": 72,
   "id": "9e2df279",
   "metadata": {},
   "outputs": [],
   "source": [
    "#设置20℃变量\n",
    "month20 = start_data[['month20']]\n",
    "day20 = start_data[['day20']]\n",
    "doy20 = start_data[['doy20']]\n",
    "yue320 = start_data[['yue320']]\n",
    "yue420 = start_data[['yue420']]\n",
    "daymarch20 = start_data[['daymarch20']]"
   ]
  },
  {
   "cell_type": "code",
   "execution_count": 73,
   "id": "fe6192a4",
   "metadata": {},
   "outputs": [],
   "source": [
    "daymarch20_array = pd.to_numeric(start_data[\"daymarch20\"]) \n",
    "daymarch20_list = daymarch20_array.tolist()\n",
    "month20_array = pd.to_numeric(start_data[\"month20\"]) \n",
    "month20_list = month20_array.tolist()\n",
    "day20_array = pd.to_numeric(start_data[\"day20\"]) \n",
    "day20_list = day20_array.tolist()"
   ]
  },
  {
   "cell_type": "code",
   "execution_count": 74,
   "id": "2f1b3293",
   "metadata": {},
   "outputs": [],
   "source": [
    "#导入画图库\n",
    "import matplotlib.pyplot as plt\n",
    "import numpy as np\n",
    "import mpl_toolkits.axisartist as axisartist"
   ]
  },
  {
   "cell_type": "code",
   "execution_count": 75,
   "id": "eae81aac",
   "metadata": {},
   "outputs": [],
   "source": [
    "#设置字体提前设置\n",
    "from matplotlib import rcParams\n",
    "config = {\n",
    "    \"font.family\":'serif',\n",
    "    \"font.size\": 10,\n",
    "    \"mathtext.fontset\":'stix',\n",
    "    \"font.serif\": ['SimSun'],\n",
    "}\n",
    "rcParams.update(config)"
   ]
  },
  {
   "cell_type": "code",
   "execution_count": 76,
   "id": "ca267f14",
   "metadata": {},
   "outputs": [],
   "source": [
    "figname='结束日期.jpg'"
   ]
  },
  {
   "cell_type": "code",
   "execution_count": 90,
   "id": "118943ac",
   "metadata": {},
   "outputs": [
    {
     "data": {
      "text/plain": [
       "<Figure size 720x360 with 0 Axes>"
      ]
     },
     "metadata": {},
     "output_type": "display_data"
    },
    {
     "data": {
      "image/png": "[encoded data removed]",
      "text/plain": [
       "<Figure size 576x360 with 1 Axes>"
      ]
     },
     "metadata": {
      "needs_background": "light"
     },
     "output_type": "display_data"
    }
   ],
   "source": [
    "#画图\n",
    "\n",
    "#设置长宽\n",
    "plt.figure(num=3,figsize=(10,5))\n",
    "\n",
    "#设置坐标轴箭头\n",
    "import mpl_toolkits.axisartist as axisartist\n",
    "#创建画布\n",
    "fig = plt.figure(figsize=(8,5))\n",
    "#使用axisartist.Subplot方法创建一个绘图区对象ax\n",
    "ax = axisartist.Subplot(fig, 111)\n",
    "#将绘图区对象添加到画布中\n",
    "fig.add_axes(ax)\n",
    "#通过set_axisline_style方法设置绘图区的底部及左侧坐标轴样式\n",
    "#\"-|>\"代表实心箭头：\"->\"代表空心箭头\n",
    "ax.axis[\"bottom\"].set_axisline_style(\"->\", size = 1.5)\n",
    "ax.axis[\"left\"].set_axisline_style(\"->\", size = 1.5)\n",
    "#通过set_visible方法设置绘图区的顶部及右侧坐标轴隐藏\n",
    "ax.axis[\"top\"].set_visible(False)\n",
    "ax.axis[\"right\"].set_visible(False)\n",
    "\n",
    "#设置坐标轴x,y\n",
    "ax = plt.gca()\n",
    "ax.spines['right'].set_color('none')\n",
    "ax.spines['top'].set_color('none')\n",
    "\n",
    "#绘制折线图\n",
    "t0,=plt.plot(year,daymarch0,'.b--',label='0℃',)\n",
    "t5,=plt.plot(year,daymarch5,'.y--',label='5℃')\n",
    "t10,=plt.plot(year,daymarch10,'.g--',label='10℃')\n",
    "t20,=plt.plot(year,daymarch20,'.r--',label='20℃')\n",
    "plt.xlim((1951,1960 ))\n",
    "plt.ylim((0, 275))\n",
    "\n",
    "#设置坐标轴标注\n",
    "plt.xlabel('年份')\n",
    "plt.ylabel('日数')\n",
    "plt.rcParams['font.sans-serif'] = ['SimHei']  # 用来正常显示中文标签\n",
    "plt.rcParams['axes.unicode_minus'] = False  # 用来正常显示负号\n",
    "plt.yticks([0,50,100,150,200,250])\n",
    "\n",
    "#设置图例\n",
    "num1 = 1.10\n",
    "num2 = 0\n",
    "num3 = 3\n",
    "num4 = 0\n",
    "legend_1=plt.legend(bbox_to_anchor=(num1, num2), loc=num3, borderaxespad=num4)\n",
    "\n",
    "\n",
    "#设置线后标注\n",
    "plt.text(year_list[-1]+0.2, daymarch0_list[-1]+5, '0℃',\n",
    "         fontdict={'size': 16, 'color': 'b'})\n",
    "plt.text(year_list[-1]+0.2, daymarch5_list[-1]+5, '5℃',\n",
    "         fontdict={'size': 16, 'color': 'y'})\n",
    "plt.text(year_list[-1]+0.2, daymarch10_list[-1]-2, '10℃',\n",
    "         fontdict={'size': 16, 'color': 'g'})\n",
    "plt.text(year_list[-1]+0.2, daymarch20_list[-1]-2, '20℃',\n",
    "         fontdict={'size': 16, 'color': 'r'})\n",
    "# plt.annotate('5℃', xy=(year_list[-1],daymarch0_list[-1]), xycoords='data', xytext=(+30, -30),\n",
    "#              textcoords='offset points', fontsize=16,\n",
    "#              arrowprops=dict(arrowstyle='->', connectionstyle=\"arc3,rad=.2\"))\n",
    "\n",
    "#显示日期\n",
    "for x, y,z,a in zip(year_list,daymarch0_list,month0_list,day0_list ):\n",
    "    # ha: horizontal alignment\n",
    "    # va: vertical alignment\n",
    "    plt.text(x+0.5, y+5,'%d' % y+'日', ha='center', va='top',color='b')\n",
    "for x, y,z,a in zip(year_list,daymarch5_list,month5_list,day5_list ):\n",
    "    # ha: horizontal alignment\n",
    "    # va: vertical alignment\n",
    "    plt.text(x+0.5, y,'%d' % y+'日', ha='center', va='top',color='y')\n",
    "for x, y,z,a in zip(year_list,daymarch10_list,month10_list,day10_list ):\n",
    "    # ha: horizontal alignment\n",
    "    # va: vertical alignment\n",
    "    plt.text(x+0.5, y-4,'%d' % y+'日', ha='center', va='top',color='g')\n",
    "for x, y,z,a in zip(year_list,daymarch20_list,month20_list,day20_list ):\n",
    "    # ha: horizontal alignment\n",
    "    # va: vertical alignment\n",
    "    plt.text(x+0.5, y-4, '%d' % y+'日', ha='center', va='top',color='r')\n",
    "\n",
    "#保存图片\n",
    "plt.savefig(figname, dpi=500,bbox_inches='tight', edgecolor='white')\n",
    "plt.show()"
   ]
  },
  {
   "cell_type": "code",
   "execution_count": null,
   "id": "95eb3008",
   "metadata": {},
   "outputs": [],
   "source": []
  },
  {
   "cell_type": "code",
   "execution_count": null,
   "id": "8ed39076",
   "metadata": {},
   "outputs": [],
   "source": []
  }
 ],
 "metadata": {
  "hide_input": false,
  "kernelspec": {
   "display_name": "Python 3",
   "language": "python",
   "name": "python3"
  },
  "language_info": {
   "codemirror_mode": {
    "name": "ipython",
    "version": 3
   },
   "file_extension": ".py",
   "mimetype": "text/x-python",
   "name": "python",
   "nbconvert_exporter": "python",
   "pygments_lexer": "ipython3",
   "version": "3.6.13"
  }
 },
 "nbformat": 4,
 "nbformat_minor": 5
}
