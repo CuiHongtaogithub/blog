{
 "cells": [
  {
   "cell_type": "code",
   "execution_count": 1,
   "id": "76040915",
   "metadata": {},
   "outputs": [],
   "source": [
    "##导入画图库\n",
    "import numpy as np\n",
    "from matplotlib import pyplot as plt\n",
    "from matplotlib import animation"
   ]
  },
  {
   "cell_type": "code",
   "execution_count": 2,
   "id": "4d0e9fbe",
   "metadata": {},
   "outputs": [],
   "source": [
    "#导入读取数据的库\n",
    "import xlrd\n",
    "import pandas as pd"
   ]
  },
  {
   "cell_type": "code",
   "execution_count": 3,
   "id": "a5147108",
   "metadata": {},
   "outputs": [],
   "source": [
    "#读取持续时间csv数据\n",
    "path = 'continue.csv'\n",
    "start_data=pd.read_csv(path,keep_default_na=False)\n",
    "# print(start_data)"
   ]
  },
  {
   "cell_type": "code",
   "execution_count": 4,
   "id": "2abeae18",
   "metadata": {},
   "outputs": [],
   "source": [
    "#读取热时csv数据\n",
    "path_tt = 'thermal_time.csv'\n",
    "start_data_tt=pd.read_csv(path_tt,keep_default_na=False)\n",
    "# print(start_data_tt)\n",
    "# print(a)"
   ]
  },
  {
   "cell_type": "code",
   "execution_count": 5,
   "id": "7415a0c4",
   "metadata": {},
   "outputs": [],
   "source": [
    "#读取变量\n",
    "biaotou=list(start_data.columns.values)\n",
    "columns1=['year', 'month0', 'day0', 'doy0', 'yue30', 'yue40', 'daymarch0', \n",
    "          'month5', 'day5', 'doy5', 'yue35', 'yue45', 'daymarch5',\n",
    "          'month10', 'day10', 'doy10', 'yue310', 'yue410', 'daymarch10', \n",
    "          'month20', 'day20', 'doy20', 'yue320', 'yue420', 'daymarch20']\n",
    "# print(year)\n",
    "# print(biaotou)\n",
    "# print(index)"
   ]
  },
  {
   "cell_type": "code",
   "execution_count": 6,
   "id": "859690db",
   "metadata": {},
   "outputs": [],
   "source": [
    "#设置热时表头\n",
    "biaotou_tt=list(start_data_tt.columns.values)\n",
    "columns1_tt=['thermal_time0','thermal_time5','thermal_time10','thermal_time20']"
   ]
  },
  {
   "cell_type": "code",
   "execution_count": 7,
   "id": "2cc64c00",
   "metadata": {},
   "outputs": [],
   "source": [
    "#设置0℃变量\n",
    "year = start_data[['year']]\n",
    "# print(year)\n",
    "month0 = start_data[['month0']]\n",
    "day0 = start_data[['day0']]\n",
    "doy0 = start_data[['doy0']]\n",
    "yue30 = start_data[['yue30']]\n",
    "yue40 = start_data[['yue40']]\n",
    "daymarch0 = start_data[['daymarch0']]"
   ]
  },
  {
   "cell_type": "code",
   "execution_count": 8,
   "id": "cb922ed6",
   "metadata": {},
   "outputs": [],
   "source": [
    "year_array = pd.to_numeric(start_data[\"year\"]) \n",
    "year_list = year_array.tolist()\n",
    "daymarch0_array = pd.to_numeric(start_data[\"daymarch0\"]) \n",
    "# print(thermal_time0_array)\n",
    "daymarch0_list = daymarch0_array.tolist()\n",
    "month0_array = pd.to_numeric(start_data[\"month0\"]) \n",
    "month0_list = month0_array.tolist()\n",
    "day0_array = pd.to_numeric(start_data[\"day0\"]) \n",
    "day0_list = day0_array.tolist()"
   ]
  },
  {
   "cell_type": "code",
   "execution_count": null,
   "id": "33c04b6c",
   "metadata": {},
   "outputs": [],
   "source": []
  },
  {
   "cell_type": "code",
   "execution_count": 9,
   "id": "16bfa887",
   "metadata": {},
   "outputs": [],
   "source": [
    "#设置热时0℃变量\n",
    "thermal_time0 = start_data_tt[['thermal_time0']]\n",
    "thermal_time0_array = pd.to_numeric(start_data_tt[\"thermal_time0\"]) \n",
    "thermal_time0_list = thermal_time0_array.tolist()"
   ]
  },
  {
   "cell_type": "code",
   "execution_count": 10,
   "id": "d5dd459f",
   "metadata": {},
   "outputs": [],
   "source": [
    "#设置5℃变量\n",
    "month5 = start_data[['month5']]\n",
    "day5 = start_data[['day5']]\n",
    "doy5 = start_data[['doy5']]\n",
    "yue35 = start_data[['yue35']]\n",
    "yue45 = start_data[['yue45']]\n",
    "daymarch5 = start_data[['daymarch5']]"
   ]
  },
  {
   "cell_type": "code",
   "execution_count": 11,
   "id": "6bbad8bc",
   "metadata": {},
   "outputs": [],
   "source": [
    "daymarch5_array = pd.to_numeric(start_data[\"daymarch5\"]) \n",
    "daymarch5_list = daymarch5_array.tolist()\n",
    "month5_array = pd.to_numeric(start_data[\"month5\"]) \n",
    "month5_list = month5_array.tolist()\n",
    "day5_array = pd.to_numeric(start_data[\"day5\"]) \n",
    "day5_list = day5_array.tolist()"
   ]
  },
  {
   "cell_type": "code",
   "execution_count": 12,
   "id": "16ea0c67",
   "metadata": {},
   "outputs": [],
   "source": [
    "#设置热时5℃变量\n",
    "thermal_time5 = start_data_tt[['thermal_time5']]\n",
    "thermal_time5_array = pd.to_numeric(start_data_tt[\"thermal_time5\"]) \n",
    "thermal_time5_list = thermal_time5_array.tolist()"
   ]
  },
  {
   "cell_type": "code",
   "execution_count": 13,
   "id": "5eff3905",
   "metadata": {},
   "outputs": [],
   "source": [
    "#设置10℃变量\n",
    "month10 = start_data[['month10']]\n",
    "day10 = start_data[['day10']]\n",
    "doy10 = start_data[['doy10']]\n",
    "yue310 = start_data[['yue310']]\n",
    "yue410 = start_data[['yue410']]\n",
    "daymarch10 = start_data[['daymarch10']]"
   ]
  },
  {
   "cell_type": "code",
   "execution_count": 14,
   "id": "b58e0b9f",
   "metadata": {},
   "outputs": [],
   "source": [
    "daymarch10_array = pd.to_numeric(start_data[\"daymarch10\"]) \n",
    "daymarch10_list = daymarch10_array.tolist()\n",
    "month10_array = pd.to_numeric(start_data[\"month10\"]) \n",
    "month10_list = month10_array.tolist()\n",
    "day10_array = pd.to_numeric(start_data[\"day10\"]) \n",
    "day10_list = day10_array.tolist()"
   ]
  },
  {
   "cell_type": "code",
   "execution_count": 15,
   "id": "3880a983",
   "metadata": {},
   "outputs": [],
   "source": [
    "#设置热时10℃变量\n",
    "thermal_time10 = start_data_tt[['thermal_time10']]\n",
    "thermal_time10_array = pd.to_numeric(start_data_tt[\"thermal_time10\"]) \n",
    "thermal_time10_list = thermal_time10_array.tolist()"
   ]
  },
  {
   "cell_type": "code",
   "execution_count": 16,
   "id": "9e2df279",
   "metadata": {},
   "outputs": [],
   "source": [
    "#设置20℃变量\n",
    "month20 = start_data[['month20']]\n",
    "day20 = start_data[['day20']]\n",
    "doy20 = start_data[['doy20']]\n",
    "yue320 = start_data[['yue320']]\n",
    "yue420 = start_data[['yue420']]\n",
    "daymarch20 = start_data[['daymarch20']]"
   ]
  },
  {
   "cell_type": "code",
   "execution_count": 17,
   "id": "fe6192a4",
   "metadata": {},
   "outputs": [],
   "source": [
    "daymarch20_array = pd.to_numeric(start_data[\"daymarch20\"]) \n",
    "daymarch20_list = daymarch20_array.tolist()\n",
    "month20_array = pd.to_numeric(start_data_tt[\"month20\"]) \n",
    "month20_list = month20_array.tolist()\n",
    "day20_array = pd.to_numeric(start_data[\"day20\"]) \n",
    "day20_list = day20_array.tolist()"
   ]
  },
  {
   "cell_type": "code",
   "execution_count": 18,
   "id": "cc847439",
   "metadata": {},
   "outputs": [],
   "source": [
    "#设置热时20℃变量\n",
    "thermal_time20 = start_data_tt[['thermal_time20']]\n",
    "thermal_time20_array = pd.to_numeric(start_data_tt[\"thermal_time20\"]) \n",
    "thermal_time20_list = thermal_time20_array.tolist()"
   ]
  },
  {
   "cell_type": "code",
   "execution_count": 19,
   "id": "2f1b3293",
   "metadata": {},
   "outputs": [],
   "source": [
    "#导入画图库\n",
    "import matplotlib.pyplot as plt\n",
    "import numpy as np\n",
    "import mpl_toolkits.axisartist as axisartist"
   ]
  },
  {
   "cell_type": "code",
   "execution_count": 20,
   "id": "eae81aac",
   "metadata": {},
   "outputs": [],
   "source": [
    "#设置字体提前设置\n",
    "from matplotlib import rcParams\n",
    "config = {\n",
    "    \"font.family\":'serif',\n",
    "    \"font.size\": 10,\n",
    "    \"mathtext.fontset\":'stix',\n",
    "    \"font.serif\": ['SimSun'],\n",
    "}\n",
    "rcParams.update(config)"
   ]
  },
  {
   "cell_type": "code",
   "execution_count": 24,
   "id": "ca267f14",
   "metadata": {},
   "outputs": [],
   "source": [
    "figname='持续日数和积温.jpg'"
   ]
  },
  {
   "cell_type": "code",
   "execution_count": 25,
   "id": "118943ac",
   "metadata": {},
   "outputs": [
    {
     "data": {
      "text/plain": [
       "<Figure size 720x360 with 0 Axes>"
      ]
     },
     "metadata": {},
     "output_type": "display_data"
    },
    {
     "data": {
      "image/png": "[encoded data removed]",
      "text/plain": [
       "<Figure size 576x360 with 2 Axes>"
      ]
     },
     "metadata": {
      "needs_background": "light"
     },
     "output_type": "display_data"
    }
   ],
   "source": [
    "#画图\n",
    "\n",
    "#设置长宽\n",
    "plt.figure(num=3,figsize=(10,5))\n",
    "\n",
    "#设置坐标轴箭头\n",
    "import mpl_toolkits.axisartist as axisartist\n",
    "#创建画布\n",
    "fig = plt.figure(figsize=(8,5))\n",
    "#使用axisartist.Subplot方法创建一个绘图区对象ax\n",
    "ax1 = axisartist.Subplot(fig, 111)\n",
    "#将绘图区对象添加到画布中\n",
    "fig.add_axes(ax1)\n",
    "#通过set_axisline_style方法设置绘图区的底部及左侧坐标轴样式\n",
    "#\"-|>\"代表实心箭头：\"->\"代表空心箭头\n",
    "# ax1.axis[\"bottom\"].set_axisline_style(\"->\", size = 1.5)\n",
    "ax1.axis[\"left\"].set_axisline_style(\"->\", size = 1.5)\n",
    "ax1.axis[\"right\"].set_axisline_style(\"->\", size = 1.5)\n",
    "#通过set_visible方法设置绘图区的顶部及右侧坐标轴隐藏\n",
    "ax1.axis[\"top\"].set_visible(False)\n",
    "# ax1.axis[\"right\"].set_visible(False)\n",
    "\n",
    "#设置坐标轴x,y\n",
    "ax1 = plt.gca()\n",
    "ax1.spines['right'].set_color('none')\n",
    "ax1.spines['top'].set_color('none')\n",
    "plt.gcf().subplots_adjust(left=0.05,top=0.8,bottom=0.09) \n",
    "\n",
    "#绘制折线图\n",
    "t0,=plt.plot(year,daymarch0,'.--',label='0℃持续时间',color='#FF1493')\n",
    "t5,=plt.plot(year,daymarch5,'.--',label='5℃持续时间',color='#FF4500')\n",
    "t10,=plt.plot(year,daymarch10,'.--',label='10℃持续时间',color='#FF0000')\n",
    "t20,=plt.plot(year,daymarch20,'.--',label='20℃持续时间',color='#800000')\n",
    "plt.xlim((1950.5,1961.5 ))\n",
    "plt.ylim((0, 273))\n",
    "\n",
    "#绘制柱状图\n",
    "ttl0=[x/16 for x in thermal_time0_list]\n",
    "ttl5=[x/16 for x in thermal_time5_list]\n",
    "ttl10=[x/16 for x in thermal_time10_list]\n",
    "ttl20=[x/16 for x in thermal_time20_list]\n",
    "# thermal_time10_list=list(map(list, zip(*thermal_time10_list)))\n",
    "# thermal_time20_list=list(map(list, zip(*thermal_time20_list)))\n",
    "plt.bar(year_list,ttl0 , facecolor='#FFE4E1', edgecolor='white',alpha=0.5,label='0℃有效热时')\n",
    "plt.bar(year_list,ttl5 , facecolor='#FFA07A', edgecolor='white',alpha=0.5,label='5℃有效热时')\n",
    "plt.bar(year_list,ttl10 , facecolor='#FF4500', edgecolor='white',alpha=0.5,label='10℃有效热时')\n",
    "plt.bar(year_list,ttl20 , facecolor='#FF0000', edgecolor='white',alpha=0.5,label='20℃有效热时')\n",
    "\n",
    "#设置坐标轴标注\n",
    "plt.xlabel('年份')\n",
    "plt.ylabel('日数/日')\n",
    "plt.rcParams['font.sans-serif'] = ['SimHei']  # 用来正常显示中文标签\n",
    "plt.rcParams['axes.unicode_minus'] = False  # 用来正常显示负号\n",
    "plt.xticks(np.arange(1951,1961,1,dtype=None))\n",
    "plt.yticks([0,50,100,150,200,250])\n",
    "\n",
    "#设置图例\n",
    "num1 = 1.10\n",
    "num2 = 0\n",
    "num3 = 3\n",
    "num4 = 0\n",
    "legend_1=plt.legend(bbox_to_anchor=(num1, num2), loc=num3, borderaxespad=num4)\n",
    "\n",
    "\n",
    "#设置线后标注\n",
    "plt.text(year_list[-1]+0.4, daymarch0_list[-1]+5, '0℃',\n",
    "         fontdict={'size': 16, 'color': '#FF1493'})\n",
    "plt.text(year_list[-1]+0.4, daymarch5_list[-1]+5, '5℃',\n",
    "         fontdict={'size': 16, 'color': '#FF4500'})\n",
    "plt.text(year_list[-1]+0.4, daymarch10_list[-1]-2, '10℃',\n",
    "         fontdict={'size': 16, 'color': '#FF0000'})\n",
    "plt.text(year_list[-1]+0.4, daymarch20_list[-1]-2, '20℃',\n",
    "         fontdict={'size': 16,  'color':'#800000' })\n",
    "# plt.annotate('5℃', xy=(year_list[-1],daymarch0_list[-1]), xycoords='data', xytext=(+30, -30),\n",
    "#              textcoords='offset points', fontsize=16,\n",
    "#              arrowprops=dict(arrowstyle='->', connectionstyle=\"arc3,rad=.2\"))\n",
    "\n",
    "#显示日期\n",
    "for x, y,z,a in zip(year_list,daymarch0_list,month0_list,day0_list ):\n",
    "    # ha: horizontal alignment\n",
    "    # va: vertical alignment\n",
    "    plt.text(x+0.5, y+5,'%d' % y+'日', ha='center', va='top',color='#FF1493')\n",
    "for x, y,z,a in zip(year_list,daymarch5_list,month5_list,day5_list ):\n",
    "    # ha: horizontal alignment\n",
    "    # va: vertical alignment\n",
    "    plt.text(x+0.5, y,'%d' % y+'日', ha='center', va='top',color='#FF4500')\n",
    "for x, y,z,a in zip(year_list,daymarch10_list,month10_list,day10_list ):\n",
    "    # ha: horizontal alignment\n",
    "    # va: vertical alignment\n",
    "    plt.text(x+0.5, y-4,'%d' % y+'日', ha='center', va='top',color='#FF0000')\n",
    "for x, y,z,a in zip(year_list,daymarch20_list,month20_list,day20_list ):\n",
    "    # ha: horizontal alignment\n",
    "    # va: vertical alignment\n",
    "    plt.text(x+0.5, y-4, '%d' % y+'日', ha='center', va='top',color='#800000')\n",
    "\n",
    "ax2=ax1.twinx() \n",
    "ax2.spines['top'].set_color('none')\n",
    "plt.yticks([0,31.25,62.5,93.75,125,156.25,187.5],[0,500,1000,1500,2000,2500,3000])\n",
    "plt.ylabel('有效热时/℃·天')\n",
    "\n",
    "#保存图片\n",
    "plt.savefig(figname, dpi=500,bbox_inches='tight', edgecolor='white')\n",
    "plt.show()\n"
   ]
  },
  {
   "cell_type": "code",
   "execution_count": null,
   "id": "95eb3008",
   "metadata": {},
   "outputs": [],
   "source": []
  },
  {
   "cell_type": "code",
   "execution_count": null,
   "id": "8ed39076",
   "metadata": {},
   "outputs": [],
   "source": []
  }
 ],
 "metadata": {
  "hide_input": false,
  "kernelspec": {
   "display_name": "Python 3",
   "language": "python",
   "name": "python3"
  },
  "language_info": {
   "codemirror_mode": {
    "name": "ipython",
    "version": 3
   },
   "file_extension": ".py",
   "mimetype": "text/x-python",
   "name": "python",
   "nbconvert_exporter": "python",
   "pygments_lexer": "ipython3",
   "version": "3.6.13"
  }
 },
 "nbformat": 4,
 "nbformat_minor": 5
}
